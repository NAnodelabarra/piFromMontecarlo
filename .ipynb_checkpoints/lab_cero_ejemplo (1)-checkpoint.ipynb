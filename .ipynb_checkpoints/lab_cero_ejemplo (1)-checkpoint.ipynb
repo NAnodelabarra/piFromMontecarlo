{
 "cells": [
  {
   "cell_type": "markdown",
   "metadata": {},
   "source": [
    "# Laboratorio cero: Análisis de Errores\n",
    "\n",
    "\n",
    "Es recomendable ver antes el video asociado al laboratorio:\n",
    "\n",
    "- [Video Introducción](https://www.youtube.com/watch?v=T9ZjyrnrPLA&feature=youtu.be&ab_channel=TallerFisicaUAI2020)\n",
    "- [Video Análisis de errores](https://youtu.be/x7ptFarvCKk)\n",
    "\n",
    "Este notebook de Python es una herramienta para que usted analice los datos tomados en su experimento casero.  Usted ingresará la tabla con cada medición y el valor encontrado, y usará algunas herramientas básicas de análisis de error para entender sus resultados.\n",
    "\n",
    "\n",
    "\n",
    "\n",
    "Haremos un histograma con los datos obtenidos. \n",
    "<br>\n",
    "<br>\n",
    "<br>"
   ]
  },
  {
   "cell_type": "code",
   "execution_count": 1,
   "metadata": {},
   "outputs": [],
   "source": [
    "#En esta línea importamos librerías de Python  NO CAMBIAR!!!\n",
    "import numpy as np\n",
    "from scipy.stats import norm\n",
    "import matplotlib.pyplot as plt\n",
    "import pandas as pd"
   ]
  },
  {
   "cell_type": "markdown",
   "metadata": {},
   "source": [
    "<br>\n",
    "<br>\n",
    "<br>\n",
    "Primero, debemos importar la tabla de datos obtenida de nuestras mediciones. Esta tabla es una columna con las mediciones que tomamos para responder nuestra pregunta científica. En el ejemplo es el largo de 100 hojas de un ficus.\n",
    "<br>\n",
    "La tabla debe ser en formato csv. Al leer los datos en python, quedan guardados como un columna de datos.\n",
    "<br>\n",
    "<br>\n",
    "\n",
    "\n",
    "\n",
    "\n",
    "\n",
    "\n"
   ]
  },
  {
   "cell_type": "code",
   "execution_count": 4,
   "metadata": {
    "scrolled": false
   },
   "outputs": [
    {
     "data": {
      "text/html": [
       "<div>\n",
       "<style scoped>\n",
       "    .dataframe tbody tr th:only-of-type {\n",
       "        vertical-align: middle;\n",
       "    }\n",
       "\n",
       "    .dataframe tbody tr th {\n",
       "        vertical-align: top;\n",
       "    }\n",
       "\n",
       "    .dataframe thead th {\n",
       "        text-align: right;\n",
       "    }\n",
       "</style>\n",
       "<table border=\"1\" class=\"dataframe\">\n",
       "  <thead>\n",
       "    <tr style=\"text-align: right;\">\n",
       "      <th></th>\n",
       "      <th>-0.09646259008442404</th>\n",
       "      <th>0.6515589497728982</th>\n",
       "      <th>4.0</th>\n",
       "      <th>True</th>\n",
       "      <th>0.4338340963149577</th>\n",
       "    </tr>\n",
       "  </thead>\n",
       "  <tbody>\n",
       "    <tr>\n",
       "      <th>0</th>\n",
       "      <td>0.064676</td>\n",
       "      <td>-0.186083</td>\n",
       "      <td>4.000000</td>\n",
       "      <td>True</td>\n",
       "      <td>0.038810</td>\n",
       "    </tr>\n",
       "    <tr>\n",
       "      <th>1</th>\n",
       "      <td>0.740532</td>\n",
       "      <td>-0.790817</td>\n",
       "      <td>2.666667</td>\n",
       "      <td>False</td>\n",
       "      <td>1.173778</td>\n",
       "    </tr>\n",
       "    <tr>\n",
       "      <th>2</th>\n",
       "      <td>-0.695767</td>\n",
       "      <td>-0.293124</td>\n",
       "      <td>3.000000</td>\n",
       "      <td>True</td>\n",
       "      <td>0.570014</td>\n",
       "    </tr>\n",
       "    <tr>\n",
       "      <th>3</th>\n",
       "      <td>-0.072507</td>\n",
       "      <td>0.482247</td>\n",
       "      <td>3.200000</td>\n",
       "      <td>True</td>\n",
       "      <td>0.237819</td>\n",
       "    </tr>\n",
       "    <tr>\n",
       "      <th>4</th>\n",
       "      <td>0.518600</td>\n",
       "      <td>0.517859</td>\n",
       "      <td>3.333333</td>\n",
       "      <td>True</td>\n",
       "      <td>0.537124</td>\n",
       "    </tr>\n",
       "    <tr>\n",
       "      <th>...</th>\n",
       "      <td>...</td>\n",
       "      <td>...</td>\n",
       "      <td>...</td>\n",
       "      <td>...</td>\n",
       "      <td>...</td>\n",
       "    </tr>\n",
       "    <tr>\n",
       "      <th>392</th>\n",
       "      <td>-0.140297</td>\n",
       "      <td>-0.915092</td>\n",
       "      <td>3.258883</td>\n",
       "      <td>True</td>\n",
       "      <td>0.857076</td>\n",
       "    </tr>\n",
       "    <tr>\n",
       "      <th>393</th>\n",
       "      <td>-0.283921</td>\n",
       "      <td>0.395117</td>\n",
       "      <td>3.260759</td>\n",
       "      <td>True</td>\n",
       "      <td>0.236729</td>\n",
       "    </tr>\n",
       "    <tr>\n",
       "      <th>394</th>\n",
       "      <td>-0.054578</td>\n",
       "      <td>0.064034</td>\n",
       "      <td>3.262626</td>\n",
       "      <td>True</td>\n",
       "      <td>0.007079</td>\n",
       "    </tr>\n",
       "    <tr>\n",
       "      <th>395</th>\n",
       "      <td>-0.959993</td>\n",
       "      <td>0.733492</td>\n",
       "      <td>3.254408</td>\n",
       "      <td>False</td>\n",
       "      <td>1.459596</td>\n",
       "    </tr>\n",
       "    <tr>\n",
       "      <th>396</th>\n",
       "      <td>-0.032415</td>\n",
       "      <td>0.447456</td>\n",
       "      <td>3.256281</td>\n",
       "      <td>True</td>\n",
       "      <td>0.201267</td>\n",
       "    </tr>\n",
       "  </tbody>\n",
       "</table>\n",
       "<p>397 rows × 5 columns</p>\n",
       "</div>"
      ],
      "text/plain": [
       "     -0.09646259008442404  0.6515589497728982       4.0   True  \\\n",
       "0                0.064676           -0.186083  4.000000   True   \n",
       "1                0.740532           -0.790817  2.666667  False   \n",
       "2               -0.695767           -0.293124  3.000000   True   \n",
       "3               -0.072507            0.482247  3.200000   True   \n",
       "4                0.518600            0.517859  3.333333   True   \n",
       "..                    ...                 ...       ...    ...   \n",
       "392             -0.140297           -0.915092  3.258883   True   \n",
       "393             -0.283921            0.395117  3.260759   True   \n",
       "394             -0.054578            0.064034  3.262626   True   \n",
       "395             -0.959993            0.733492  3.254408  False   \n",
       "396             -0.032415            0.447456  3.256281   True   \n",
       "\n",
       "     0.4338340963149577  \n",
       "0              0.038810  \n",
       "1              1.173778  \n",
       "2              0.570014  \n",
       "3              0.237819  \n",
       "4              0.537124  \n",
       "..                  ...  \n",
       "392            0.857076  \n",
       "393            0.236729  \n",
       "394            0.007079  \n",
       "395            1.459596  \n",
       "396            0.201267  \n",
       "\n",
       "[397 rows x 5 columns]"
      ]
     },
     "execution_count": 4,
     "metadata": {},
     "output_type": "execute_result"
    }
   ],
   "source": [
    "#cambie \"carpeta\" por la ubicación en su computador donde se encuentra el archivo\n",
    "df=pd.read_csv('data.csv', delimiter = ',')  #para tabla de datos\n",
    "df"
   ]
  },
  {
   "cell_type": "markdown",
   "metadata": {},
   "source": [
    "En este caso se hicieron 114 mediciones de largo de hojas del ficus\n",
    "<br>\n",
    "<br>\n",
    "Para visualizar las mediciones construiremos un histograma\n",
    "\n",
    "<br>"
   ]
  },
  {
   "cell_type": "code",
   "execution_count": 7,
   "metadata": {
    "scrolled": false
   },
   "outputs": [
    {
     "data": {
      "image/png": "[encoded data removed]",
      "text/plain": [
       "<Figure size 864x576 with 1 Axes>"
      ]
     },
     "metadata": {
      "needs_background": "light"
     },
     "output_type": "display_data"
    }
   ],
   "source": [
    "df.plot.hist(bins=15, grid=False, figsize=(12,8), color='g', zorder=2, rwidth=0.9, alpha=0.6, legend=False)\n",
    "plt.ylabel('Frecuencia', fontsize=17)\n",
    "plt.xlabel('Largo [cm]', fontsize=17)\n",
    "\n",
    "#cambie \"carpeta\" por la ubicación en su computador donde dejara la figura\n",
    "plt.savefig(\"largo_hojas_hist.png\", dpi=300)\n",
    "\n",
    "\n",
    "plt.show()"
   ]
  },
  {
   "cell_type": "markdown",
   "metadata": {},
   "source": [
    "## Herramientas estadísticas básicas para analizar nuestros resultados\n",
    "\n",
    "De las mediciones podemos extraer dos cantidades importantes para el análisis de errores: el promedio y la desviación estándar del promedio. \n",
    "\n",
    "<br>\n",
    "\n",
    "La media o **promedio simple** en un experimento con N mediciones se calcula como \n",
    "\n",
    "$$\\bar{x}=\\frac{1}{N}\\sum_{i=0}^N x_i $$\n",
    "\n",
    "donde $x_i$ es el valor de cada medición hecha\n",
    "\n",
    "<br>\n",
    "\n",
    "Así mismo, **la desviación estándar** de los datos se calcula como\n",
    "\n",
    "$$\\Delta x=\\sigma=\\sqrt{\\frac{\\sum_{i=1}^N (x_i-\\bar{x})^2}{N-1}}$$\n",
    "\n",
    "Este valor indica la **incerteza en la medición**\n",
    "\n",
    "<br>\n",
    "\n",
    "La **incerteza en el promedio** se calcula como \n",
    "$$\\Delta \\bar{x}=\\frac{\\sigma}{\\sqrt{N}}$$\n",
    "\n",
    "Finalmente, **el valor medido $x_m$** en nuestro experimento será:\n",
    "\n",
    "$$x_m=\\bar{x}\\pm\\Delta \\bar{x}$$\n"
   ]
  },
  {
   "cell_type": "markdown",
   "metadata": {},
   "source": [
    "<br>\n",
    "En Python, podemos encontrar el promedio con el comando mean y la desviación estándar con el comando std"
   ]
  },
  {
   "cell_type": "code",
   "execution_count": null,
   "metadata": {},
   "outputs": [],
   "source": [
    "promedio=df.mean() #promedio de los datos guardados en df\n",
    "print(\"El valor promedio de las mediciones es  %.5f [cm]\"%(promedio))"
   ]
  },
  {
   "cell_type": "code",
   "execution_count": null,
   "metadata": {},
   "outputs": [],
   "source": [
    "sigma=df.std() #desviación estándar de los datos guardados en df\n",
    "print(\"La desviación estándar en las mediciones es  %.5f [cm]\"%(sigma))"
   ]
  },
  {
   "cell_type": "code",
   "execution_count": null,
   "metadata": {},
   "outputs": [],
   "source": [
    "N=114 #numero de mediciones \n",
    "delta_mean=sigma/np.sqrt(N) #incerteza del promedio\n",
    "print(\"La incerteza del promedio  es  %.5f [cm]\"%(delta_mean))"
   ]
  },
  {
   "cell_type": "markdown",
   "metadata": {},
   "source": [
    "### La precisión de nuestro instrumento, en este caso una regla, no nos permite poner resultados más precisos que una décima de centímetro, por lo que debemos aproximar esos números para que tengan sólo un decimal.\n",
    "\n",
    "\n",
    "<br>\n",
    "<br>\n",
    "<br>\n",
    "<br>\n",
    "\n",
    "Para visualizar estos resultados en la distribución de datos:"
   ]
  },
  {
   "cell_type": "code",
   "execution_count": null,
   "metadata": {},
   "outputs": [],
   "source": [
    "fig = plt.figure(figsize=(7.2,4.45))\n",
    "\n",
    "\n",
    "df.plot.hist(bins=15, grid=False, figsize=(12,8), color='g', zorder=2, rwidth=0.9, alpha=0.6, legend=False)\n",
    "plt.ylabel('Frecuencia', fontsize=17)\n",
    "plt.xlabel('Largo [cm]', fontsize=17)\n",
    "plt.axvline(x=6.74, ymin=0, ymax=1 ,color='r', linestyle='-.', linewidth=3)\n",
    "plt.axvline(x=6.74+1.10, ymin=0, ymax=1 ,color='b', linestyle='--', linewidth=4)\n",
    "plt.axvline(x=6.74-1.10, ymin=0, ymax=1 ,color='b', linestyle='--', linewidth=4)\n",
    "\n",
    "plt.annotate(r'$\\bar{x}$', xy=(6.74, 15), xytext=(6.5, 21),fontsize=30, color='r')\n",
    "plt.annotate(s='', xy=(6.74,17), xytext=(7.84,17), arrowprops=dict(arrowstyle='<->', linewidth=5, color='b'), color='b')\n",
    "plt.annotate( '$\\Delta x$', xy=(7.3,17), xytext=(7.3, 17),fontsize=30, color='b')\n",
    "plt.annotate(s='', xy=(6.74-0.1,19.9), xytext=(6.74+0.1,19.9), arrowprops=dict(arrowstyle='<->', linewidth=1, color='r'), color='r')\n",
    "plt.annotate( r'$\\Delta \\bar{x}$', xy=(6.9,20), xytext=(6.9, 20),fontsize=20, color='r')\n",
    "\n",
    "\n",
    "#cambie \"carpeta\" por la ubicación en su computador donde dejara la figura\n",
    "plt.savefig(\"/carpeta/largo_hojas.png\", dpi=300)\n",
    "\n",
    "\n",
    "plt.show()"
   ]
  },
  {
   "cell_type": "markdown",
   "metadata": {},
   "source": [
    "## Resultados\n",
    "A partir de nuestros datos, para N=114 mediciones hemos encontrado:\n",
    "\n",
    "\n",
    "\n",
    "- El valor promedio de la hoja de ficus es 6.7 cm \n",
    "- La desviación estándar de las mediciones es 1.10 cm\n",
    "- La incerteza del promedio es 0.10 cm\n",
    "\n",
    "<br> \n",
    "\n",
    "Por lo tanto, hemos encontrado que el largo de una hoja de ficus es\n",
    "\n",
    "$$x_m=6.7 \\pm 0.1 \\ \\rm cm$$"
   ]
  },
  {
   "cell_type": "markdown",
   "metadata": {},
   "source": [
    "# Algunas consideraciones\n",
    "\n",
    "1. Es importante notar que la incerteza del promedio es afectada por el número de datos que se tomen (está dividida por $\\sqrt{N}$). Esto quiere decir que nuestro resultado tendrá menos incerteza si nuestra muestra (número de datos tomados) es mayor. "
   ]
  },
  {
   "cell_type": "code",
   "execution_count": null,
   "metadata": {},
   "outputs": [],
   "source": [
    "#seleccionamos sub-muestras de los datos obtenidos\n",
    "\n",
    "df1=df.sample(10)\n",
    "df2=df.sample(50)\n",
    "df3=df.sample(100)\n",
    "\n"
   ]
  },
  {
   "cell_type": "code",
   "execution_count": null,
   "metadata": {},
   "outputs": [],
   "source": [
    "fig = plt.figure(figsize=(7.2,4.45))\n",
    "\n",
    "# Divide the figure into a 1x2 grid, and give me the first section\n",
    "ax1 = fig.add_subplot(131)\n",
    "\n",
    "# Divide the figure into a 1x2 grid, and give me the second section\n",
    "ax2 = fig.add_subplot(132)\n",
    "ax3 = fig.add_subplot(133)\n",
    "\n",
    "df1.plot.hist(bins=15, grid=False, figsize=(16,8), color='g', zorder=2, rwidth=0.9, alpha=0.6, ax=ax1, legend=False)\n",
    "ax1.set_title(\"N=10\", fontsize=17)\n",
    "df2.plot.hist(bins=15, grid=False, figsize=(16,8), color='r', zorder=2, rwidth=0.9, alpha=0.6, ax=ax2, legend=False)\n",
    "ax2.set_title(\"N=50\", fontsize=17)\n",
    "df3.plot.hist(bins=15, grid=False, figsize=(16,8), color='b', zorder=2, rwidth=0.9, alpha=0.6, ax=ax3, legend=False)\n",
    "ax3.set_title(\"N=100\", fontsize=17)\n",
    "\n",
    "ax1.set_ylabel('Frecuencia', fontsize=10)\n",
    "ax1.set_xlabel('Largo [cm]', fontsize=17)\n",
    "ax2.set_ylabel('Frecuencia', fontsize=10)\n",
    "ax2.set_xlabel('Largo [cm]', fontsize=17)\n",
    "ax3.set_ylabel('Frecuencia', fontsize=10)\n",
    "ax3.set_xlabel('Largo [cm]', fontsize=17)\n",
    "\n",
    "#cambie \"carpeta\" por la ubicación en su computador donde dejara la figura\n",
    "plt.savefig(\"/carpeta/N_distintos.png\", dpi=300)\n",
    "\n",
    "\n",
    "plt.show()"
   ]
  },
  {
   "cell_type": "markdown",
   "metadata": {},
   "source": [
    "Cuando N es un número grande, la distribución del histograma se aproxima a una [**distribución gaussiana**](https://es.wikipedia.org/wiki/Distribuci%C3%B3n_normal), donde el valor promedio es $\\mu$ y la desviación estándar es $\\sigma$"
   ]
  },
  {
   "cell_type": "code",
   "execution_count": null,
   "metadata": {},
   "outputs": [],
   "source": [
    "df4= pd.DataFrame(np.random.randn(10000, 1)+6.74, columns=list('A')) #generamos 10000 datos aleatorios \n",
    "df4.mean()\n",
    "\n",
    "df4.std()\n",
    "#df4"
   ]
  },
  {
   "cell_type": "code",
   "execution_count": null,
   "metadata": {
    "scrolled": false
   },
   "outputs": [],
   "source": [
    "df4.plot.hist(bins=15, grid=False, figsize=(16,8), color='y', zorder=2, rwidth=0.9, alpha=0.6,legend=False, density=False)\n",
    "\n",
    "def gaussian(x, mu, sig):\n",
    "    return 1./(np.sqrt(2.*np.pi)*sig)*np.exp(-np.power((x - mu)/sig, 2.)/2)\n",
    "\n",
    "mu=6.731732\n",
    "sig=0.997619\n",
    "\n",
    "x_values = np.linspace(2, 12, 100)\n",
    "\n",
    "plt.plot(x_values, 5200*gaussian(x_values, mu, sig),linewidth=5, color='b')\n",
    "plt.title(\"N=1000\", fontsize=17)\n",
    "plt.axvline(x=mu, ymin=0, ymax=0.95 ,color='r', linestyle='-.', linewidth=3)\n",
    "plt.axvline(x=mu+sig, ymin=0, ymax=0.59 ,color='g', linestyle='--', linewidth=4)\n",
    "plt.axvline(x=mu-sig, ymin=0, ymax=0.59 ,color='g', linestyle='--', linewidth=4)\n",
    "\n",
    "plt.annotate('$\\mu$', xy=(mu, 1700), xytext=(7.5, 2000),arrowprops=dict(facecolor='r', shrink=0.05),fontsize=30, color='r')\n",
    "\n",
    "plt.annotate( '$\\mu+\\sigma$', xy=(mu+sig,1250), xytext=(8, 1500), arrowprops=dict(facecolor='g', shrink=0.05),fontsize=30, color='g')\n",
    "plt.annotate('$\\mu-\\sigma$', xy=(mu-sig, 1250), xytext=(4.5, 1500),arrowprops=dict(facecolor='g', shrink=0.05),fontsize=30, color='g')\n",
    "\n",
    "plt.ylabel('Frecuencia', fontsize=17)\n",
    "plt.xlabel('Largo [cm]', fontsize=17)\n",
    "\n",
    "plt.xlim(2., 11.)\n",
    "plt.ylim(0., 2250.)\n",
    "\n",
    "plt.annotate( r'$f(x)\\sim\\frac{1}{\\sigma\\sqrt{2\\pi}}e^{-\\frac{1}{2}(\\frac{x-\\mu}{\\sigma})^2}$', xy=(9, 750),\n",
    "              xytext=(9, 750), fontsize=30, color='b')\n",
    "\n",
    "#cambie \"carpeta\" por la ubicación en su computador donde dejara la figura\n",
    "plt.savefig(\"/carpeta/gaussian.png\", dpi=300)\n",
    "\n",
    "\n",
    "\n",
    "\n",
    "plt.show()"
   ]
  },
  {
   "cell_type": "markdown",
   "metadata": {},
   "source": [
    "2. Otra consideración importante cuando presentamos el histograma de mediciones es el tamaño del bin.El bin es el intervalo donde agrupamos las mediciones en el eje x del histograma. La elección del tamaño del bin nos ayuda a visualizar de mejor forma la distribución de nuestros datos. El bin está limitado por la precisión del instrumento que usamos para hacer las mediciones, en este caso, la regla. Nunca puede ser menor, ya que nuestro experimento es tan preciso como lo que permite el instrumento"
   ]
  },
  {
   "cell_type": "code",
   "execution_count": null,
   "metadata": {},
   "outputs": [],
   "source": [
    "fig = plt.figure(figsize=(7.2,4.45))\n",
    "\n",
    "# Divide the figure into a 1x2 grid, and give me the first section\n",
    "ax1 = fig.add_subplot(131)\n",
    "\n",
    "# Divide the figure into a 1x2 grid, and give me the second section\n",
    "ax2 = fig.add_subplot(132)\n",
    "ax3 = fig.add_subplot(133)\n",
    "\n",
    "df.plot.hist(bins=2, grid=False, figsize=(16,8), color='g', zorder=2, rwidth=0.9, alpha=0.6, legend=False, ax=ax1)\n",
    "df.plot.hist(bins=20, grid=False, figsize=(16,8), color='g', zorder=2, rwidth=0.9, alpha=0.6, legend=False, ax=ax2)\n",
    "df.plot.hist(bins=100, grid=False, figsize=(16,8), color='g', zorder=2, rwidth=0.9, alpha=0.6, legend=False, ax=ax3)\n",
    "\n",
    "ax1.set_title(\"2 bines\", fontsize=17)\n",
    "ax2.set_title(\"20 bines\", fontsize=17)\n",
    "ax3.set_title(\"100 bines\", fontsize=17)\n",
    "ax1.set_ylabel('Frecuencia', fontsize=10)\n",
    "ax1.set_xlabel('Largo [cm]', fontsize=17)\n",
    "ax2.set_ylabel('Frecuencia', fontsize=10)\n",
    "ax2.set_xlabel('Largo [cm]', fontsize=17)\n",
    "ax3.set_ylabel('Frecuencia', fontsize=10)\n",
    "ax3.set_xlabel('Largo [cm]', fontsize=17)\n",
    "\n",
    "#cambie \"carpeta\" por la ubicación en su computador donde dejara la figura\n",
    "plt.savefig(\"/carpeta/bines.png\", dpi=300)\n",
    "\n",
    "\n",
    "\n",
    "plt.show()"
   ]
  },
  {
   "cell_type": "code",
   "execution_count": null,
   "metadata": {},
   "outputs": [],
   "source": []
  },
  {
   "cell_type": "code",
   "execution_count": null,
   "metadata": {},
   "outputs": [],
   "source": []
  },
  {
   "cell_type": "code",
   "execution_count": null,
   "metadata": {},
   "outputs": [],
   "source": []
  },
  {
   "cell_type": "code",
   "execution_count": null,
   "metadata": {},
   "outputs": [],
   "source": []
  },
  {
   "cell_type": "code",
   "execution_count": null,
   "metadata": {},
   "outputs": [],
   "source": []
  },
  {
   "cell_type": "code",
   "execution_count": null,
   "metadata": {},
   "outputs": [],
   "source": []
  },
  {
   "cell_type": "code",
   "execution_count": null,
   "metadata": {},
   "outputs": [],
   "source": []
  }
 ],
 "metadata": {
  "kernelspec": {
   "display_name": "Python 3",
   "language": "python",
   "name": "python3"
  },
  "language_info": {
   "codemirror_mode": {
    "name": "ipython",
    "version": 3
   },
   "file_extension": ".py",
   "mimetype": "text/x-python",
   "name": "python",
   "nbconvert_exporter": "python",
   "pygments_lexer": "ipython3",
   "version": "3.8.3"
  }
 },
 "nbformat": 4,
 "nbformat_minor": 2
}
